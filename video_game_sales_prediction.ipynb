{
  "nbformat": 4,
  "nbformat_minor": 0,
  "metadata": {
    "kernelspec": {
      "display_name": "Python 3",
      "language": "python",
      "name": "python3"
    },
    "language_info": {
      "codemirror_mode": {
        "name": "ipython",
        "version": 3
      },
      "file_extension": ".py",
      "mimetype": "text/x-python",
      "name": "python",
      "nbconvert_exporter": "python",
      "pygments_lexer": "ipython3",
      "version": "3.7.6"
    },
    "papermill": {
      "duration": 19.249643,
      "end_time": "2020-09-07T15:19:41.097400",
      "environment_variables": {},
      "exception": null,
      "input_path": "__notebook__.ipynb",
      "output_path": "__notebook__.ipynb",
      "parameters": {},
      "start_time": "2020-09-07T15:19:21.847757",
      "version": "2.1.0"
    },
    "colab": {
      "name": "video-game-sales-prediction.ipynb",
      "provenance": [],
      "include_colab_link": true
    }
  },
  "cells": [
    {
      "cell_type": "markdown",
      "metadata": {
        "id": "view-in-github",
        "colab_type": "text"
      },
      "source": [
        "<a href=\"https://colab.research.google.com/github/jravur1308/Video_games_sale_prediction/blob/main/video_game_sales_prediction.ipynb\" target=\"_parent\"><img src=\"https://colab.research.google.com/assets/colab-badge.svg\" alt=\"Open In Colab\"/></a>"
      ]
    },
    {
      "cell_type": "markdown",
      "metadata": {
        "papermill": {
          "duration": 0.00998,
          "end_time": "2020-09-07T15:19:26.519890",
          "exception": false,
          "start_time": "2020-09-07T15:19:26.509910",
          "status": "completed"
        },
        "tags": [],
        "id": "Kyr3mGzEoqmw"
      },
      "source": [
        "# Getting Started"
      ]
    },
    {
      "cell_type": "code",
      "metadata": {
        "_cell_guid": "79c7e3d0-c299-4dcb-8224-4455121ee9b0",
        "_uuid": "d629ff2d2480ee46fbb7e2d37f6b5fab8052498a",
        "execution": {
          "iopub.execute_input": "2020-09-07T15:19:26.540852Z",
          "iopub.status.busy": "2020-09-07T15:19:26.540121Z",
          "iopub.status.idle": "2020-09-07T15:19:33.706990Z",
          "shell.execute_reply": "2020-09-07T15:19:33.705734Z"
        },
        "papermill": {
          "duration": 7.17923,
          "end_time": "2020-09-07T15:19:33.707184",
          "exception": false,
          "start_time": "2020-09-07T15:19:26.527954",
          "status": "completed"
        },
        "tags": [],
        "id": "KHb8Ug8foqm3",
        "outputId": "b9e158ca-8398-456f-d946-7a836f5dd89a"
      },
      "source": [
        "import numpy as np\n",
        "import pandas as pd\n",
        "import matplotlib.pyplot as plt\n",
        "\n",
        "from sklearn.preprocessing import StandardScaler\n",
        "from sklearn.model_selection import train_test_split\n",
        "\n",
        "import tensorflow as tf\n",
        "\n",
        "from tensorflow_addons.metrics import RSquare"
      ],
      "execution_count": null,
      "outputs": [
        {
          "output_type": "stream",
          "text": [
            "/opt/conda/lib/python3.7/site-packages/tensorflow_addons/utils/ensure_tf_install.py:68: UserWarning: Tensorflow Addons supports using Python ops for all Tensorflow versions above or equal to 2.2.0 and strictly below 2.3.0 (nightly versions are not supported). \n",
            " The versions of TensorFlow you are currently using is 2.3.0 and is not supported. \n",
            "Some things might work, some things might not.\n",
            "If you were to encounter a bug, do not file an issue.\n",
            "If you want to make sure you're using a tested and supported configuration, either change the TensorFlow version or the TensorFlow Addons's version. \n",
            "You can find the compatibility matrix in TensorFlow Addon's readme:\n",
            "https://github.com/tensorflow/addons\n",
            "  UserWarning,\n"
          ],
          "name": "stderr"
        }
      ]
    },
    {
      "cell_type": "code",
      "metadata": {
        "execution": {
          "iopub.execute_input": "2020-09-07T15:19:33.733750Z",
          "iopub.status.busy": "2020-09-07T15:19:33.733044Z",
          "iopub.status.idle": "2020-09-07T15:19:33.816584Z",
          "shell.execute_reply": "2020-09-07T15:19:33.815732Z"
        },
        "papermill": {
          "duration": 0.100696,
          "end_time": "2020-09-07T15:19:33.816735",
          "exception": false,
          "start_time": "2020-09-07T15:19:33.716039",
          "status": "completed"
        },
        "tags": [],
        "id": "ehVp-qydoqm4"
      },
      "source": [
        "data = pd.read_csv('../input/videogamesales/vgsales.csv', index_col='Rank')"
      ],
      "execution_count": null,
      "outputs": []
    },
    {
      "cell_type": "code",
      "metadata": {
        "execution": {
          "iopub.execute_input": "2020-09-07T15:19:33.846110Z",
          "iopub.status.busy": "2020-09-07T15:19:33.845026Z",
          "iopub.status.idle": "2020-09-07T15:19:33.874086Z",
          "shell.execute_reply": "2020-09-07T15:19:33.873360Z"
        },
        "papermill": {
          "duration": 0.048203,
          "end_time": "2020-09-07T15:19:33.874207",
          "exception": false,
          "start_time": "2020-09-07T15:19:33.826004",
          "status": "completed"
        },
        "tags": [],
        "id": "xKmcbjQdoqm4",
        "outputId": "6431f0b3-ab07-4965-cfdd-b492c333f1e7"
      },
      "source": [
        "data"
      ],
      "execution_count": null,
      "outputs": [
        {
          "output_type": "execute_result",
          "data": {
            "text/html": [
              "<div>\n",
              "<style scoped>\n",
              "    .dataframe tbody tr th:only-of-type {\n",
              "        vertical-align: middle;\n",
              "    }\n",
              "\n",
              "    .dataframe tbody tr th {\n",
              "        vertical-align: top;\n",
              "    }\n",
              "\n",
              "    .dataframe thead th {\n",
              "        text-align: right;\n",
              "    }\n",
              "</style>\n",
              "<table border=\"1\" class=\"dataframe\">\n",
              "  <thead>\n",
              "    <tr style=\"text-align: right;\">\n",
              "      <th></th>\n",
              "      <th>Name</th>\n",
              "      <th>Platform</th>\n",
              "      <th>Year</th>\n",
              "      <th>Genre</th>\n",
              "      <th>Publisher</th>\n",
              "      <th>NA_Sales</th>\n",
              "      <th>EU_Sales</th>\n",
              "      <th>JP_Sales</th>\n",
              "      <th>Other_Sales</th>\n",
              "      <th>Global_Sales</th>\n",
              "    </tr>\n",
              "    <tr>\n",
              "      <th>Rank</th>\n",
              "      <th></th>\n",
              "      <th></th>\n",
              "      <th></th>\n",
              "      <th></th>\n",
              "      <th></th>\n",
              "      <th></th>\n",
              "      <th></th>\n",
              "      <th></th>\n",
              "      <th></th>\n",
              "      <th></th>\n",
              "    </tr>\n",
              "  </thead>\n",
              "  <tbody>\n",
              "    <tr>\n",
              "      <th>1</th>\n",
              "      <td>Wii Sports</td>\n",
              "      <td>Wii</td>\n",
              "      <td>2006.0</td>\n",
              "      <td>Sports</td>\n",
              "      <td>Nintendo</td>\n",
              "      <td>41.49</td>\n",
              "      <td>29.02</td>\n",
              "      <td>3.77</td>\n",
              "      <td>8.46</td>\n",
              "      <td>82.74</td>\n",
              "    </tr>\n",
              "    <tr>\n",
              "      <th>2</th>\n",
              "      <td>Super Mario Bros.</td>\n",
              "      <td>NES</td>\n",
              "      <td>1985.0</td>\n",
              "      <td>Platform</td>\n",
              "      <td>Nintendo</td>\n",
              "      <td>29.08</td>\n",
              "      <td>3.58</td>\n",
              "      <td>6.81</td>\n",
              "      <td>0.77</td>\n",
              "      <td>40.24</td>\n",
              "    </tr>\n",
              "    <tr>\n",
              "      <th>3</th>\n",
              "      <td>Mario Kart Wii</td>\n",
              "      <td>Wii</td>\n",
              "      <td>2008.0</td>\n",
              "      <td>Racing</td>\n",
              "      <td>Nintendo</td>\n",
              "      <td>15.85</td>\n",
              "      <td>12.88</td>\n",
              "      <td>3.79</td>\n",
              "      <td>3.31</td>\n",
              "      <td>35.82</td>\n",
              "    </tr>\n",
              "    <tr>\n",
              "      <th>4</th>\n",
              "      <td>Wii Sports Resort</td>\n",
              "      <td>Wii</td>\n",
              "      <td>2009.0</td>\n",
              "      <td>Sports</td>\n",
              "      <td>Nintendo</td>\n",
              "      <td>15.75</td>\n",
              "      <td>11.01</td>\n",
              "      <td>3.28</td>\n",
              "      <td>2.96</td>\n",
              "      <td>33.00</td>\n",
              "    </tr>\n",
              "    <tr>\n",
              "      <th>5</th>\n",
              "      <td>Pokemon Red/Pokemon Blue</td>\n",
              "      <td>GB</td>\n",
              "      <td>1996.0</td>\n",
              "      <td>Role-Playing</td>\n",
              "      <td>Nintendo</td>\n",
              "      <td>11.27</td>\n",
              "      <td>8.89</td>\n",
              "      <td>10.22</td>\n",
              "      <td>1.00</td>\n",
              "      <td>31.37</td>\n",
              "    </tr>\n",
              "    <tr>\n",
              "      <th>...</th>\n",
              "      <td>...</td>\n",
              "      <td>...</td>\n",
              "      <td>...</td>\n",
              "      <td>...</td>\n",
              "      <td>...</td>\n",
              "      <td>...</td>\n",
              "      <td>...</td>\n",
              "      <td>...</td>\n",
              "      <td>...</td>\n",
              "      <td>...</td>\n",
              "    </tr>\n",
              "    <tr>\n",
              "      <th>16596</th>\n",
              "      <td>Woody Woodpecker in Crazy Castle 5</td>\n",
              "      <td>GBA</td>\n",
              "      <td>2002.0</td>\n",
              "      <td>Platform</td>\n",
              "      <td>Kemco</td>\n",
              "      <td>0.01</td>\n",
              "      <td>0.00</td>\n",
              "      <td>0.00</td>\n",
              "      <td>0.00</td>\n",
              "      <td>0.01</td>\n",
              "    </tr>\n",
              "    <tr>\n",
              "      <th>16597</th>\n",
              "      <td>Men in Black II: Alien Escape</td>\n",
              "      <td>GC</td>\n",
              "      <td>2003.0</td>\n",
              "      <td>Shooter</td>\n",
              "      <td>Infogrames</td>\n",
              "      <td>0.01</td>\n",
              "      <td>0.00</td>\n",
              "      <td>0.00</td>\n",
              "      <td>0.00</td>\n",
              "      <td>0.01</td>\n",
              "    </tr>\n",
              "    <tr>\n",
              "      <th>16598</th>\n",
              "      <td>SCORE International Baja 1000: The Official Game</td>\n",
              "      <td>PS2</td>\n",
              "      <td>2008.0</td>\n",
              "      <td>Racing</td>\n",
              "      <td>Activision</td>\n",
              "      <td>0.00</td>\n",
              "      <td>0.00</td>\n",
              "      <td>0.00</td>\n",
              "      <td>0.00</td>\n",
              "      <td>0.01</td>\n",
              "    </tr>\n",
              "    <tr>\n",
              "      <th>16599</th>\n",
              "      <td>Know How 2</td>\n",
              "      <td>DS</td>\n",
              "      <td>2010.0</td>\n",
              "      <td>Puzzle</td>\n",
              "      <td>7G//AMES</td>\n",
              "      <td>0.00</td>\n",
              "      <td>0.01</td>\n",
              "      <td>0.00</td>\n",
              "      <td>0.00</td>\n",
              "      <td>0.01</td>\n",
              "    </tr>\n",
              "    <tr>\n",
              "      <th>16600</th>\n",
              "      <td>Spirits &amp; Spells</td>\n",
              "      <td>GBA</td>\n",
              "      <td>2003.0</td>\n",
              "      <td>Platform</td>\n",
              "      <td>Wanadoo</td>\n",
              "      <td>0.01</td>\n",
              "      <td>0.00</td>\n",
              "      <td>0.00</td>\n",
              "      <td>0.00</td>\n",
              "      <td>0.01</td>\n",
              "    </tr>\n",
              "  </tbody>\n",
              "</table>\n",
              "<p>16598 rows × 10 columns</p>\n",
              "</div>"
            ],
            "text/plain": [
              "                                                   Name Platform    Year  \\\n",
              "Rank                                                                       \n",
              "1                                            Wii Sports      Wii  2006.0   \n",
              "2                                     Super Mario Bros.      NES  1985.0   \n",
              "3                                        Mario Kart Wii      Wii  2008.0   \n",
              "4                                     Wii Sports Resort      Wii  2009.0   \n",
              "5                              Pokemon Red/Pokemon Blue       GB  1996.0   \n",
              "...                                                 ...      ...     ...   \n",
              "16596                Woody Woodpecker in Crazy Castle 5      GBA  2002.0   \n",
              "16597                     Men in Black II: Alien Escape       GC  2003.0   \n",
              "16598  SCORE International Baja 1000: The Official Game      PS2  2008.0   \n",
              "16599                                        Know How 2       DS  2010.0   \n",
              "16600                                  Spirits & Spells      GBA  2003.0   \n",
              "\n",
              "              Genre   Publisher  NA_Sales  EU_Sales  JP_Sales  Other_Sales  \\\n",
              "Rank                                                                         \n",
              "1            Sports    Nintendo     41.49     29.02      3.77         8.46   \n",
              "2          Platform    Nintendo     29.08      3.58      6.81         0.77   \n",
              "3            Racing    Nintendo     15.85     12.88      3.79         3.31   \n",
              "4            Sports    Nintendo     15.75     11.01      3.28         2.96   \n",
              "5      Role-Playing    Nintendo     11.27      8.89     10.22         1.00   \n",
              "...             ...         ...       ...       ...       ...          ...   \n",
              "16596      Platform       Kemco      0.01      0.00      0.00         0.00   \n",
              "16597       Shooter  Infogrames      0.01      0.00      0.00         0.00   \n",
              "16598        Racing  Activision      0.00      0.00      0.00         0.00   \n",
              "16599        Puzzle    7G//AMES      0.00      0.01      0.00         0.00   \n",
              "16600      Platform     Wanadoo      0.01      0.00      0.00         0.00   \n",
              "\n",
              "       Global_Sales  \n",
              "Rank                 \n",
              "1             82.74  \n",
              "2             40.24  \n",
              "3             35.82  \n",
              "4             33.00  \n",
              "5             31.37  \n",
              "...             ...  \n",
              "16596          0.01  \n",
              "16597          0.01  \n",
              "16598          0.01  \n",
              "16599          0.01  \n",
              "16600          0.01  \n",
              "\n",
              "[16598 rows x 10 columns]"
            ]
          },
          "metadata": {
            "tags": []
          },
          "execution_count": 3
        }
      ]
    },
    {
      "cell_type": "markdown",
      "metadata": {
        "papermill": {
          "duration": 0.008925,
          "end_time": "2020-09-07T15:19:33.892485",
          "exception": false,
          "start_time": "2020-09-07T15:19:33.883560",
          "status": "completed"
        },
        "tags": [],
        "id": "Rcr7Svxeoqm5"
      },
      "source": [
        "# Preprocessing"
      ]
    },
    {
      "cell_type": "code",
      "metadata": {
        "execution": {
          "iopub.execute_input": "2020-09-07T15:19:33.918585Z",
          "iopub.status.busy": "2020-09-07T15:19:33.917468Z",
          "iopub.status.idle": "2020-09-07T15:19:33.922077Z",
          "shell.execute_reply": "2020-09-07T15:19:33.922628Z"
        },
        "papermill": {
          "duration": 0.021643,
          "end_time": "2020-09-07T15:19:33.922778",
          "exception": false,
          "start_time": "2020-09-07T15:19:33.901135",
          "status": "completed"
        },
        "tags": [],
        "id": "ZZzyvKzOoqm5"
      },
      "source": [
        "columns_to_drop = ['Name', 'NA_Sales', 'EU_Sales', 'JP_Sales', 'Other_Sales']\n",
        "\n",
        "data.drop(columns_to_drop, axis=1, inplace=True)"
      ],
      "execution_count": null,
      "outputs": []
    },
    {
      "cell_type": "code",
      "metadata": {
        "execution": {
          "iopub.execute_input": "2020-09-07T15:19:33.945220Z",
          "iopub.status.busy": "2020-09-07T15:19:33.944075Z",
          "iopub.status.idle": "2020-09-07T15:19:33.966203Z",
          "shell.execute_reply": "2020-09-07T15:19:33.966797Z"
        },
        "papermill": {
          "duration": 0.035646,
          "end_time": "2020-09-07T15:19:33.966964",
          "exception": false,
          "start_time": "2020-09-07T15:19:33.931318",
          "status": "completed"
        },
        "tags": [],
        "id": "ThImdpbEoqm5",
        "outputId": "5177924a-b6b9-4304-9ebf-09506439fa1e"
      },
      "source": [
        "data"
      ],
      "execution_count": null,
      "outputs": [
        {
          "output_type": "execute_result",
          "data": {
            "text/html": [
              "<div>\n",
              "<style scoped>\n",
              "    .dataframe tbody tr th:only-of-type {\n",
              "        vertical-align: middle;\n",
              "    }\n",
              "\n",
              "    .dataframe tbody tr th {\n",
              "        vertical-align: top;\n",
              "    }\n",
              "\n",
              "    .dataframe thead th {\n",
              "        text-align: right;\n",
              "    }\n",
              "</style>\n",
              "<table border=\"1\" class=\"dataframe\">\n",
              "  <thead>\n",
              "    <tr style=\"text-align: right;\">\n",
              "      <th></th>\n",
              "      <th>Platform</th>\n",
              "      <th>Year</th>\n",
              "      <th>Genre</th>\n",
              "      <th>Publisher</th>\n",
              "      <th>Global_Sales</th>\n",
              "    </tr>\n",
              "    <tr>\n",
              "      <th>Rank</th>\n",
              "      <th></th>\n",
              "      <th></th>\n",
              "      <th></th>\n",
              "      <th></th>\n",
              "      <th></th>\n",
              "    </tr>\n",
              "  </thead>\n",
              "  <tbody>\n",
              "    <tr>\n",
              "      <th>1</th>\n",
              "      <td>Wii</td>\n",
              "      <td>2006.0</td>\n",
              "      <td>Sports</td>\n",
              "      <td>Nintendo</td>\n",
              "      <td>82.74</td>\n",
              "    </tr>\n",
              "    <tr>\n",
              "      <th>2</th>\n",
              "      <td>NES</td>\n",
              "      <td>1985.0</td>\n",
              "      <td>Platform</td>\n",
              "      <td>Nintendo</td>\n",
              "      <td>40.24</td>\n",
              "    </tr>\n",
              "    <tr>\n",
              "      <th>3</th>\n",
              "      <td>Wii</td>\n",
              "      <td>2008.0</td>\n",
              "      <td>Racing</td>\n",
              "      <td>Nintendo</td>\n",
              "      <td>35.82</td>\n",
              "    </tr>\n",
              "    <tr>\n",
              "      <th>4</th>\n",
              "      <td>Wii</td>\n",
              "      <td>2009.0</td>\n",
              "      <td>Sports</td>\n",
              "      <td>Nintendo</td>\n",
              "      <td>33.00</td>\n",
              "    </tr>\n",
              "    <tr>\n",
              "      <th>5</th>\n",
              "      <td>GB</td>\n",
              "      <td>1996.0</td>\n",
              "      <td>Role-Playing</td>\n",
              "      <td>Nintendo</td>\n",
              "      <td>31.37</td>\n",
              "    </tr>\n",
              "    <tr>\n",
              "      <th>...</th>\n",
              "      <td>...</td>\n",
              "      <td>...</td>\n",
              "      <td>...</td>\n",
              "      <td>...</td>\n",
              "      <td>...</td>\n",
              "    </tr>\n",
              "    <tr>\n",
              "      <th>16596</th>\n",
              "      <td>GBA</td>\n",
              "      <td>2002.0</td>\n",
              "      <td>Platform</td>\n",
              "      <td>Kemco</td>\n",
              "      <td>0.01</td>\n",
              "    </tr>\n",
              "    <tr>\n",
              "      <th>16597</th>\n",
              "      <td>GC</td>\n",
              "      <td>2003.0</td>\n",
              "      <td>Shooter</td>\n",
              "      <td>Infogrames</td>\n",
              "      <td>0.01</td>\n",
              "    </tr>\n",
              "    <tr>\n",
              "      <th>16598</th>\n",
              "      <td>PS2</td>\n",
              "      <td>2008.0</td>\n",
              "      <td>Racing</td>\n",
              "      <td>Activision</td>\n",
              "      <td>0.01</td>\n",
              "    </tr>\n",
              "    <tr>\n",
              "      <th>16599</th>\n",
              "      <td>DS</td>\n",
              "      <td>2010.0</td>\n",
              "      <td>Puzzle</td>\n",
              "      <td>7G//AMES</td>\n",
              "      <td>0.01</td>\n",
              "    </tr>\n",
              "    <tr>\n",
              "      <th>16600</th>\n",
              "      <td>GBA</td>\n",
              "      <td>2003.0</td>\n",
              "      <td>Platform</td>\n",
              "      <td>Wanadoo</td>\n",
              "      <td>0.01</td>\n",
              "    </tr>\n",
              "  </tbody>\n",
              "</table>\n",
              "<p>16598 rows × 5 columns</p>\n",
              "</div>"
            ],
            "text/plain": [
              "      Platform    Year         Genre   Publisher  Global_Sales\n",
              "Rank                                                          \n",
              "1          Wii  2006.0        Sports    Nintendo         82.74\n",
              "2          NES  1985.0      Platform    Nintendo         40.24\n",
              "3          Wii  2008.0        Racing    Nintendo         35.82\n",
              "4          Wii  2009.0        Sports    Nintendo         33.00\n",
              "5           GB  1996.0  Role-Playing    Nintendo         31.37\n",
              "...        ...     ...           ...         ...           ...\n",
              "16596      GBA  2002.0      Platform       Kemco          0.01\n",
              "16597       GC  2003.0       Shooter  Infogrames          0.01\n",
              "16598      PS2  2008.0        Racing  Activision          0.01\n",
              "16599       DS  2010.0        Puzzle    7G//AMES          0.01\n",
              "16600      GBA  2003.0      Platform     Wanadoo          0.01\n",
              "\n",
              "[16598 rows x 5 columns]"
            ]
          },
          "metadata": {
            "tags": []
          },
          "execution_count": 5
        }
      ]
    },
    {
      "cell_type": "code",
      "metadata": {
        "execution": {
          "iopub.execute_input": "2020-09-07T15:19:33.988829Z",
          "iopub.status.busy": "2020-09-07T15:19:33.988106Z",
          "iopub.status.idle": "2020-09-07T15:19:34.002898Z",
          "shell.execute_reply": "2020-09-07T15:19:34.002136Z"
        },
        "papermill": {
          "duration": 0.027076,
          "end_time": "2020-09-07T15:19:34.003034",
          "exception": false,
          "start_time": "2020-09-07T15:19:33.975958",
          "status": "completed"
        },
        "tags": [],
        "id": "NxQYA-CZoqm6",
        "outputId": "c611adee-9e5f-45d6-8b3c-21c42c4278bc"
      },
      "source": [
        "data.isnull().sum()"
      ],
      "execution_count": null,
      "outputs": [
        {
          "output_type": "execute_result",
          "data": {
            "text/plain": [
              "Platform          0\n",
              "Year            271\n",
              "Genre             0\n",
              "Publisher        58\n",
              "Global_Sales      0\n",
              "dtype: int64"
            ]
          },
          "metadata": {
            "tags": []
          },
          "execution_count": 6
        }
      ]
    },
    {
      "cell_type": "code",
      "metadata": {
        "execution": {
          "iopub.execute_input": "2020-09-07T15:19:34.026270Z",
          "iopub.status.busy": "2020-09-07T15:19:34.025064Z",
          "iopub.status.idle": "2020-09-07T15:19:34.032944Z",
          "shell.execute_reply": "2020-09-07T15:19:34.032302Z"
        },
        "papermill": {
          "duration": 0.020823,
          "end_time": "2020-09-07T15:19:34.033071",
          "exception": false,
          "start_time": "2020-09-07T15:19:34.012248",
          "status": "completed"
        },
        "tags": [],
        "id": "BERE0dHmoqm6"
      },
      "source": [
        "data['Year'] = data['Year'].fillna(data['Year'].mean())"
      ],
      "execution_count": null,
      "outputs": []
    },
    {
      "cell_type": "code",
      "metadata": {
        "execution": {
          "iopub.execute_input": "2020-09-07T15:19:34.064613Z",
          "iopub.status.busy": "2020-09-07T15:19:34.063079Z",
          "iopub.status.idle": "2020-09-07T15:19:34.091954Z",
          "shell.execute_reply": "2020-09-07T15:19:34.091145Z"
        },
        "papermill": {
          "duration": 0.049308,
          "end_time": "2020-09-07T15:19:34.092077",
          "exception": false,
          "start_time": "2020-09-07T15:19:34.042769",
          "status": "completed"
        },
        "tags": [],
        "id": "9WTsjCqnoqm6"
      },
      "source": [
        "data = data.dropna(axis=0)"
      ],
      "execution_count": null,
      "outputs": []
    },
    {
      "cell_type": "code",
      "metadata": {
        "execution": {
          "iopub.execute_input": "2020-09-07T15:19:34.123262Z",
          "iopub.status.busy": "2020-09-07T15:19:34.122109Z",
          "iopub.status.idle": "2020-09-07T15:19:34.128872Z",
          "shell.execute_reply": "2020-09-07T15:19:34.129369Z"
        },
        "papermill": {
          "duration": 0.028036,
          "end_time": "2020-09-07T15:19:34.129535",
          "exception": false,
          "start_time": "2020-09-07T15:19:34.101499",
          "status": "completed"
        },
        "tags": [],
        "id": "XAnVc7YZoqm7",
        "outputId": "6ea9fed2-94bd-44ee-aa35-9213465d3c20"
      },
      "source": [
        "data.isnull().sum()"
      ],
      "execution_count": null,
      "outputs": [
        {
          "output_type": "execute_result",
          "data": {
            "text/plain": [
              "Platform        0\n",
              "Year            0\n",
              "Genre           0\n",
              "Publisher       0\n",
              "Global_Sales    0\n",
              "dtype: int64"
            ]
          },
          "metadata": {
            "tags": []
          },
          "execution_count": 9
        }
      ]
    },
    {
      "cell_type": "markdown",
      "metadata": {
        "papermill": {
          "duration": 0.009984,
          "end_time": "2020-09-07T15:19:34.149809",
          "exception": false,
          "start_time": "2020-09-07T15:19:34.139825",
          "status": "completed"
        },
        "tags": [],
        "id": "2R1klmA-oqm7"
      },
      "source": [
        "## Encoding"
      ]
    },
    {
      "cell_type": "code",
      "metadata": {
        "execution": {
          "iopub.execute_input": "2020-09-07T15:19:34.189638Z",
          "iopub.status.busy": "2020-09-07T15:19:34.188908Z",
          "iopub.status.idle": "2020-09-07T15:19:34.193257Z",
          "shell.execute_reply": "2020-09-07T15:19:34.192720Z"
        },
        "papermill": {
          "duration": 0.033795,
          "end_time": "2020-09-07T15:19:34.193398",
          "exception": false,
          "start_time": "2020-09-07T15:19:34.159603",
          "status": "completed"
        },
        "tags": [],
        "id": "S1_XEGxBoqm7",
        "outputId": "08832b40-a6bf-4f5c-cde2-c7099ceb76c7"
      },
      "source": [
        "data"
      ],
      "execution_count": null,
      "outputs": [
        {
          "output_type": "execute_result",
          "data": {
            "text/html": [
              "<div>\n",
              "<style scoped>\n",
              "    .dataframe tbody tr th:only-of-type {\n",
              "        vertical-align: middle;\n",
              "    }\n",
              "\n",
              "    .dataframe tbody tr th {\n",
              "        vertical-align: top;\n",
              "    }\n",
              "\n",
              "    .dataframe thead th {\n",
              "        text-align: right;\n",
              "    }\n",
              "</style>\n",
              "<table border=\"1\" class=\"dataframe\">\n",
              "  <thead>\n",
              "    <tr style=\"text-align: right;\">\n",
              "      <th></th>\n",
              "      <th>Platform</th>\n",
              "      <th>Year</th>\n",
              "      <th>Genre</th>\n",
              "      <th>Publisher</th>\n",
              "      <th>Global_Sales</th>\n",
              "    </tr>\n",
              "    <tr>\n",
              "      <th>Rank</th>\n",
              "      <th></th>\n",
              "      <th></th>\n",
              "      <th></th>\n",
              "      <th></th>\n",
              "      <th></th>\n",
              "    </tr>\n",
              "  </thead>\n",
              "  <tbody>\n",
              "    <tr>\n",
              "      <th>1</th>\n",
              "      <td>Wii</td>\n",
              "      <td>2006.0</td>\n",
              "      <td>Sports</td>\n",
              "      <td>Nintendo</td>\n",
              "      <td>82.74</td>\n",
              "    </tr>\n",
              "    <tr>\n",
              "      <th>2</th>\n",
              "      <td>NES</td>\n",
              "      <td>1985.0</td>\n",
              "      <td>Platform</td>\n",
              "      <td>Nintendo</td>\n",
              "      <td>40.24</td>\n",
              "    </tr>\n",
              "    <tr>\n",
              "      <th>3</th>\n",
              "      <td>Wii</td>\n",
              "      <td>2008.0</td>\n",
              "      <td>Racing</td>\n",
              "      <td>Nintendo</td>\n",
              "      <td>35.82</td>\n",
              "    </tr>\n",
              "    <tr>\n",
              "      <th>4</th>\n",
              "      <td>Wii</td>\n",
              "      <td>2009.0</td>\n",
              "      <td>Sports</td>\n",
              "      <td>Nintendo</td>\n",
              "      <td>33.00</td>\n",
              "    </tr>\n",
              "    <tr>\n",
              "      <th>5</th>\n",
              "      <td>GB</td>\n",
              "      <td>1996.0</td>\n",
              "      <td>Role-Playing</td>\n",
              "      <td>Nintendo</td>\n",
              "      <td>31.37</td>\n",
              "    </tr>\n",
              "    <tr>\n",
              "      <th>...</th>\n",
              "      <td>...</td>\n",
              "      <td>...</td>\n",
              "      <td>...</td>\n",
              "      <td>...</td>\n",
              "      <td>...</td>\n",
              "    </tr>\n",
              "    <tr>\n",
              "      <th>16596</th>\n",
              "      <td>GBA</td>\n",
              "      <td>2002.0</td>\n",
              "      <td>Platform</td>\n",
              "      <td>Kemco</td>\n",
              "      <td>0.01</td>\n",
              "    </tr>\n",
              "    <tr>\n",
              "      <th>16597</th>\n",
              "      <td>GC</td>\n",
              "      <td>2003.0</td>\n",
              "      <td>Shooter</td>\n",
              "      <td>Infogrames</td>\n",
              "      <td>0.01</td>\n",
              "    </tr>\n",
              "    <tr>\n",
              "      <th>16598</th>\n",
              "      <td>PS2</td>\n",
              "      <td>2008.0</td>\n",
              "      <td>Racing</td>\n",
              "      <td>Activision</td>\n",
              "      <td>0.01</td>\n",
              "    </tr>\n",
              "    <tr>\n",
              "      <th>16599</th>\n",
              "      <td>DS</td>\n",
              "      <td>2010.0</td>\n",
              "      <td>Puzzle</td>\n",
              "      <td>7G//AMES</td>\n",
              "      <td>0.01</td>\n",
              "    </tr>\n",
              "    <tr>\n",
              "      <th>16600</th>\n",
              "      <td>GBA</td>\n",
              "      <td>2003.0</td>\n",
              "      <td>Platform</td>\n",
              "      <td>Wanadoo</td>\n",
              "      <td>0.01</td>\n",
              "    </tr>\n",
              "  </tbody>\n",
              "</table>\n",
              "<p>16540 rows × 5 columns</p>\n",
              "</div>"
            ],
            "text/plain": [
              "      Platform    Year         Genre   Publisher  Global_Sales\n",
              "Rank                                                          \n",
              "1          Wii  2006.0        Sports    Nintendo         82.74\n",
              "2          NES  1985.0      Platform    Nintendo         40.24\n",
              "3          Wii  2008.0        Racing    Nintendo         35.82\n",
              "4          Wii  2009.0        Sports    Nintendo         33.00\n",
              "5           GB  1996.0  Role-Playing    Nintendo         31.37\n",
              "...        ...     ...           ...         ...           ...\n",
              "16596      GBA  2002.0      Platform       Kemco          0.01\n",
              "16597       GC  2003.0       Shooter  Infogrames          0.01\n",
              "16598      PS2  2008.0        Racing  Activision          0.01\n",
              "16599       DS  2010.0        Puzzle    7G//AMES          0.01\n",
              "16600      GBA  2003.0      Platform     Wanadoo          0.01\n",
              "\n",
              "[16540 rows x 5 columns]"
            ]
          },
          "metadata": {
            "tags": []
          },
          "execution_count": 10
        }
      ]
    },
    {
      "cell_type": "code",
      "metadata": {
        "execution": {
          "iopub.execute_input": "2020-09-07T15:19:34.221126Z",
          "iopub.status.busy": "2020-09-07T15:19:34.220073Z",
          "iopub.status.idle": "2020-09-07T15:19:34.226285Z",
          "shell.execute_reply": "2020-09-07T15:19:34.225588Z"
        },
        "papermill": {
          "duration": 0.022699,
          "end_time": "2020-09-07T15:19:34.226458",
          "exception": false,
          "start_time": "2020-09-07T15:19:34.203759",
          "status": "completed"
        },
        "tags": [],
        "id": "8bjJWPBRoqm7",
        "outputId": "f543b3c1-3b4f-4b41-b6b7-ca471b86ad0a"
      },
      "source": [
        "data['Platform'].unique()"
      ],
      "execution_count": null,
      "outputs": [
        {
          "output_type": "execute_result",
          "data": {
            "text/plain": [
              "array(['Wii', 'NES', 'GB', 'DS', 'X360', 'PS3', 'PS2', 'SNES', 'GBA',\n",
              "       '3DS', 'PS4', 'N64', 'PS', 'XB', 'PC', '2600', 'PSP', 'XOne', 'GC',\n",
              "       'WiiU', 'GEN', 'DC', 'PSV', 'SAT', 'SCD', 'WS', 'NG', 'TG16',\n",
              "       '3DO', 'GG', 'PCFX'], dtype=object)"
            ]
          },
          "metadata": {
            "tags": []
          },
          "execution_count": 11
        }
      ]
    },
    {
      "cell_type": "code",
      "metadata": {
        "execution": {
          "iopub.execute_input": "2020-09-07T15:19:34.253670Z",
          "iopub.status.busy": "2020-09-07T15:19:34.252763Z",
          "iopub.status.idle": "2020-09-07T15:19:34.258867Z",
          "shell.execute_reply": "2020-09-07T15:19:34.258120Z"
        },
        "papermill": {
          "duration": 0.021998,
          "end_time": "2020-09-07T15:19:34.258996",
          "exception": false,
          "start_time": "2020-09-07T15:19:34.236998",
          "status": "completed"
        },
        "tags": [],
        "id": "cs17qqNOoqm8",
        "outputId": "94f873a4-22f5-4db8-9f32-6eaacce09428"
      },
      "source": [
        "data['Genre'].unique()"
      ],
      "execution_count": null,
      "outputs": [
        {
          "output_type": "execute_result",
          "data": {
            "text/plain": [
              "array(['Sports', 'Platform', 'Racing', 'Role-Playing', 'Puzzle', 'Misc',\n",
              "       'Shooter', 'Simulation', 'Action', 'Fighting', 'Adventure',\n",
              "       'Strategy'], dtype=object)"
            ]
          },
          "metadata": {
            "tags": []
          },
          "execution_count": 12
        }
      ]
    },
    {
      "cell_type": "code",
      "metadata": {
        "execution": {
          "iopub.execute_input": "2020-09-07T15:19:34.291043Z",
          "iopub.status.busy": "2020-09-07T15:19:34.290262Z",
          "iopub.status.idle": "2020-09-07T15:19:34.408188Z",
          "shell.execute_reply": "2020-09-07T15:19:34.407191Z"
        },
        "papermill": {
          "duration": 0.138791,
          "end_time": "2020-09-07T15:19:34.408407",
          "exception": false,
          "start_time": "2020-09-07T15:19:34.269616",
          "status": "completed"
        },
        "tags": [],
        "id": "GJ59CMCpoqm8",
        "outputId": "6a5d8a59-8e96-4798-b165-e209ca665d5b"
      },
      "source": [
        "counts = data['Publisher'].value_counts()\n",
        "\n",
        "data['Publisher'] = data['Publisher'].apply(lambda x: 'Small Publisher' if counts[x] < 50 else x)"
      ],
      "execution_count": null,
      "outputs": [
        {
          "output_type": "stream",
          "text": [
            "/opt/conda/lib/python3.7/site-packages/ipykernel_launcher.py:3: SettingWithCopyWarning: \n",
            "A value is trying to be set on a copy of a slice from a DataFrame.\n",
            "Try using .loc[row_indexer,col_indexer] = value instead\n",
            "\n",
            "See the caveats in the documentation: https://pandas.pydata.org/pandas-docs/stable/user_guide/indexing.html#returning-a-view-versus-a-copy\n",
            "  This is separate from the ipykernel package so we can avoid doing imports until\n"
          ],
          "name": "stderr"
        }
      ]
    },
    {
      "cell_type": "code",
      "metadata": {
        "execution": {
          "iopub.execute_input": "2020-09-07T15:19:34.449802Z",
          "iopub.status.busy": "2020-09-07T15:19:34.448912Z",
          "iopub.status.idle": "2020-09-07T15:19:34.454579Z",
          "shell.execute_reply": "2020-09-07T15:19:34.453895Z"
        },
        "papermill": {
          "duration": 0.035014,
          "end_time": "2020-09-07T15:19:34.454698",
          "exception": false,
          "start_time": "2020-09-07T15:19:34.419684",
          "status": "completed"
        },
        "tags": [],
        "id": "q60uyoy9oqm8",
        "outputId": "2e59a723-3840-482a-a850-8e38d1321c37"
      },
      "source": [
        "data"
      ],
      "execution_count": null,
      "outputs": [
        {
          "output_type": "execute_result",
          "data": {
            "text/html": [
              "<div>\n",
              "<style scoped>\n",
              "    .dataframe tbody tr th:only-of-type {\n",
              "        vertical-align: middle;\n",
              "    }\n",
              "\n",
              "    .dataframe tbody tr th {\n",
              "        vertical-align: top;\n",
              "    }\n",
              "\n",
              "    .dataframe thead th {\n",
              "        text-align: right;\n",
              "    }\n",
              "</style>\n",
              "<table border=\"1\" class=\"dataframe\">\n",
              "  <thead>\n",
              "    <tr style=\"text-align: right;\">\n",
              "      <th></th>\n",
              "      <th>Platform</th>\n",
              "      <th>Year</th>\n",
              "      <th>Genre</th>\n",
              "      <th>Publisher</th>\n",
              "      <th>Global_Sales</th>\n",
              "    </tr>\n",
              "    <tr>\n",
              "      <th>Rank</th>\n",
              "      <th></th>\n",
              "      <th></th>\n",
              "      <th></th>\n",
              "      <th></th>\n",
              "      <th></th>\n",
              "    </tr>\n",
              "  </thead>\n",
              "  <tbody>\n",
              "    <tr>\n",
              "      <th>1</th>\n",
              "      <td>Wii</td>\n",
              "      <td>2006.0</td>\n",
              "      <td>Sports</td>\n",
              "      <td>Nintendo</td>\n",
              "      <td>82.74</td>\n",
              "    </tr>\n",
              "    <tr>\n",
              "      <th>2</th>\n",
              "      <td>NES</td>\n",
              "      <td>1985.0</td>\n",
              "      <td>Platform</td>\n",
              "      <td>Nintendo</td>\n",
              "      <td>40.24</td>\n",
              "    </tr>\n",
              "    <tr>\n",
              "      <th>3</th>\n",
              "      <td>Wii</td>\n",
              "      <td>2008.0</td>\n",
              "      <td>Racing</td>\n",
              "      <td>Nintendo</td>\n",
              "      <td>35.82</td>\n",
              "    </tr>\n",
              "    <tr>\n",
              "      <th>4</th>\n",
              "      <td>Wii</td>\n",
              "      <td>2009.0</td>\n",
              "      <td>Sports</td>\n",
              "      <td>Nintendo</td>\n",
              "      <td>33.00</td>\n",
              "    </tr>\n",
              "    <tr>\n",
              "      <th>5</th>\n",
              "      <td>GB</td>\n",
              "      <td>1996.0</td>\n",
              "      <td>Role-Playing</td>\n",
              "      <td>Nintendo</td>\n",
              "      <td>31.37</td>\n",
              "    </tr>\n",
              "    <tr>\n",
              "      <th>...</th>\n",
              "      <td>...</td>\n",
              "      <td>...</td>\n",
              "      <td>...</td>\n",
              "      <td>...</td>\n",
              "      <td>...</td>\n",
              "    </tr>\n",
              "    <tr>\n",
              "      <th>16596</th>\n",
              "      <td>GBA</td>\n",
              "      <td>2002.0</td>\n",
              "      <td>Platform</td>\n",
              "      <td>Small Publisher</td>\n",
              "      <td>0.01</td>\n",
              "    </tr>\n",
              "    <tr>\n",
              "      <th>16597</th>\n",
              "      <td>GC</td>\n",
              "      <td>2003.0</td>\n",
              "      <td>Shooter</td>\n",
              "      <td>Infogrames</td>\n",
              "      <td>0.01</td>\n",
              "    </tr>\n",
              "    <tr>\n",
              "      <th>16598</th>\n",
              "      <td>PS2</td>\n",
              "      <td>2008.0</td>\n",
              "      <td>Racing</td>\n",
              "      <td>Activision</td>\n",
              "      <td>0.01</td>\n",
              "    </tr>\n",
              "    <tr>\n",
              "      <th>16599</th>\n",
              "      <td>DS</td>\n",
              "      <td>2010.0</td>\n",
              "      <td>Puzzle</td>\n",
              "      <td>Small Publisher</td>\n",
              "      <td>0.01</td>\n",
              "    </tr>\n",
              "    <tr>\n",
              "      <th>16600</th>\n",
              "      <td>GBA</td>\n",
              "      <td>2003.0</td>\n",
              "      <td>Platform</td>\n",
              "      <td>Small Publisher</td>\n",
              "      <td>0.01</td>\n",
              "    </tr>\n",
              "  </tbody>\n",
              "</table>\n",
              "<p>16540 rows × 5 columns</p>\n",
              "</div>"
            ],
            "text/plain": [
              "      Platform    Year         Genre        Publisher  Global_Sales\n",
              "Rank                                                               \n",
              "1          Wii  2006.0        Sports         Nintendo         82.74\n",
              "2          NES  1985.0      Platform         Nintendo         40.24\n",
              "3          Wii  2008.0        Racing         Nintendo         35.82\n",
              "4          Wii  2009.0        Sports         Nintendo         33.00\n",
              "5           GB  1996.0  Role-Playing         Nintendo         31.37\n",
              "...        ...     ...           ...              ...           ...\n",
              "16596      GBA  2002.0      Platform  Small Publisher          0.01\n",
              "16597       GC  2003.0       Shooter       Infogrames          0.01\n",
              "16598      PS2  2008.0        Racing       Activision          0.01\n",
              "16599       DS  2010.0        Puzzle  Small Publisher          0.01\n",
              "16600      GBA  2003.0      Platform  Small Publisher          0.01\n",
              "\n",
              "[16540 rows x 5 columns]"
            ]
          },
          "metadata": {
            "tags": []
          },
          "execution_count": 14
        }
      ]
    },
    {
      "cell_type": "code",
      "metadata": {
        "execution": {
          "iopub.execute_input": "2020-09-07T15:19:34.481565Z",
          "iopub.status.busy": "2020-09-07T15:19:34.480824Z",
          "iopub.status.idle": "2020-09-07T15:19:34.483996Z",
          "shell.execute_reply": "2020-09-07T15:19:34.484520Z"
        },
        "papermill": {
          "duration": 0.019406,
          "end_time": "2020-09-07T15:19:34.484697",
          "exception": false,
          "start_time": "2020-09-07T15:19:34.465291",
          "status": "completed"
        },
        "tags": [],
        "id": "KmWfHvJroqm9"
      },
      "source": [
        "onehot_columns = ['Platform', 'Genre', 'Publisher']"
      ],
      "execution_count": null,
      "outputs": []
    },
    {
      "cell_type": "code",
      "metadata": {
        "execution": {
          "iopub.execute_input": "2020-09-07T15:19:34.514003Z",
          "iopub.status.busy": "2020-09-07T15:19:34.512926Z",
          "iopub.status.idle": "2020-09-07T15:19:34.516146Z",
          "shell.execute_reply": "2020-09-07T15:19:34.516690Z"
        },
        "papermill": {
          "duration": 0.021434,
          "end_time": "2020-09-07T15:19:34.516854",
          "exception": false,
          "start_time": "2020-09-07T15:19:34.495420",
          "status": "completed"
        },
        "tags": [],
        "id": "XkVxIQmYoqm-"
      },
      "source": [
        "def onehot_encode(data, columns):\n",
        "    for column in columns:\n",
        "        dummies = pd.get_dummies(data[column])\n",
        "        data = pd.concat([data, dummies], axis=1)\n",
        "        data.drop(column, axis=1, inplace=True)\n",
        "    return data"
      ],
      "execution_count": null,
      "outputs": []
    },
    {
      "cell_type": "code",
      "metadata": {
        "execution": {
          "iopub.execute_input": "2020-09-07T15:19:34.546676Z",
          "iopub.status.busy": "2020-09-07T15:19:34.545739Z",
          "iopub.status.idle": "2020-09-07T15:19:34.576369Z",
          "shell.execute_reply": "2020-09-07T15:19:34.576967Z"
        },
        "papermill": {
          "duration": 0.048381,
          "end_time": "2020-09-07T15:19:34.577129",
          "exception": false,
          "start_time": "2020-09-07T15:19:34.528748",
          "status": "completed"
        },
        "tags": [],
        "id": "_gkkpOJSoqm-"
      },
      "source": [
        "data = onehot_encode(data, onehot_columns)"
      ],
      "execution_count": null,
      "outputs": []
    },
    {
      "cell_type": "code",
      "metadata": {
        "execution": {
          "iopub.execute_input": "2020-09-07T15:19:34.603158Z",
          "iopub.status.busy": "2020-09-07T15:19:34.602445Z",
          "iopub.status.idle": "2020-09-07T15:19:34.632665Z",
          "shell.execute_reply": "2020-09-07T15:19:34.631984Z"
        },
        "papermill": {
          "duration": 0.045011,
          "end_time": "2020-09-07T15:19:34.633057",
          "exception": false,
          "start_time": "2020-09-07T15:19:34.588046",
          "status": "completed"
        },
        "tags": [],
        "id": "rGFIKaMVoqm-",
        "outputId": "52b11005-3a46-4ee6-ab3a-e480f03b29b4"
      },
      "source": [
        "data"
      ],
      "execution_count": null,
      "outputs": [
        {
          "output_type": "execute_result",
          "data": {
            "text/html": [
              "<div>\n",
              "<style scoped>\n",
              "    .dataframe tbody tr th:only-of-type {\n",
              "        vertical-align: middle;\n",
              "    }\n",
              "\n",
              "    .dataframe tbody tr th {\n",
              "        vertical-align: top;\n",
              "    }\n",
              "\n",
              "    .dataframe thead th {\n",
              "        text-align: right;\n",
              "    }\n",
              "</style>\n",
              "<table border=\"1\" class=\"dataframe\">\n",
              "  <thead>\n",
              "    <tr style=\"text-align: right;\">\n",
              "      <th></th>\n",
              "      <th>Year</th>\n",
              "      <th>Global_Sales</th>\n",
              "      <th>2600</th>\n",
              "      <th>3DO</th>\n",
              "      <th>3DS</th>\n",
              "      <th>DC</th>\n",
              "      <th>DS</th>\n",
              "      <th>GB</th>\n",
              "      <th>GBA</th>\n",
              "      <th>GC</th>\n",
              "      <th>...</th>\n",
              "      <th>SquareSoft</th>\n",
              "      <th>THQ</th>\n",
              "      <th>Take-Two Interactive</th>\n",
              "      <th>Tecmo Koei</th>\n",
              "      <th>Ubisoft</th>\n",
              "      <th>Unknown</th>\n",
              "      <th>Virgin Interactive</th>\n",
              "      <th>Vivendi Games</th>\n",
              "      <th>Warner Bros. Interactive Entertainment</th>\n",
              "      <th>Zoo Digital Publishing</th>\n",
              "    </tr>\n",
              "    <tr>\n",
              "      <th>Rank</th>\n",
              "      <th></th>\n",
              "      <th></th>\n",
              "      <th></th>\n",
              "      <th></th>\n",
              "      <th></th>\n",
              "      <th></th>\n",
              "      <th></th>\n",
              "      <th></th>\n",
              "      <th></th>\n",
              "      <th></th>\n",
              "      <th></th>\n",
              "      <th></th>\n",
              "      <th></th>\n",
              "      <th></th>\n",
              "      <th></th>\n",
              "      <th></th>\n",
              "      <th></th>\n",
              "      <th></th>\n",
              "      <th></th>\n",
              "      <th></th>\n",
              "      <th></th>\n",
              "    </tr>\n",
              "  </thead>\n",
              "  <tbody>\n",
              "    <tr>\n",
              "      <th>1</th>\n",
              "      <td>2006.0</td>\n",
              "      <td>82.74</td>\n",
              "      <td>0</td>\n",
              "      <td>0</td>\n",
              "      <td>0</td>\n",
              "      <td>0</td>\n",
              "      <td>0</td>\n",
              "      <td>0</td>\n",
              "      <td>0</td>\n",
              "      <td>0</td>\n",
              "      <td>...</td>\n",
              "      <td>0</td>\n",
              "      <td>0</td>\n",
              "      <td>0</td>\n",
              "      <td>0</td>\n",
              "      <td>0</td>\n",
              "      <td>0</td>\n",
              "      <td>0</td>\n",
              "      <td>0</td>\n",
              "      <td>0</td>\n",
              "      <td>0</td>\n",
              "    </tr>\n",
              "    <tr>\n",
              "      <th>2</th>\n",
              "      <td>1985.0</td>\n",
              "      <td>40.24</td>\n",
              "      <td>0</td>\n",
              "      <td>0</td>\n",
              "      <td>0</td>\n",
              "      <td>0</td>\n",
              "      <td>0</td>\n",
              "      <td>0</td>\n",
              "      <td>0</td>\n",
              "      <td>0</td>\n",
              "      <td>...</td>\n",
              "      <td>0</td>\n",
              "      <td>0</td>\n",
              "      <td>0</td>\n",
              "      <td>0</td>\n",
              "      <td>0</td>\n",
              "      <td>0</td>\n",
              "      <td>0</td>\n",
              "      <td>0</td>\n",
              "      <td>0</td>\n",
              "      <td>0</td>\n",
              "    </tr>\n",
              "    <tr>\n",
              "      <th>3</th>\n",
              "      <td>2008.0</td>\n",
              "      <td>35.82</td>\n",
              "      <td>0</td>\n",
              "      <td>0</td>\n",
              "      <td>0</td>\n",
              "      <td>0</td>\n",
              "      <td>0</td>\n",
              "      <td>0</td>\n",
              "      <td>0</td>\n",
              "      <td>0</td>\n",
              "      <td>...</td>\n",
              "      <td>0</td>\n",
              "      <td>0</td>\n",
              "      <td>0</td>\n",
              "      <td>0</td>\n",
              "      <td>0</td>\n",
              "      <td>0</td>\n",
              "      <td>0</td>\n",
              "      <td>0</td>\n",
              "      <td>0</td>\n",
              "      <td>0</td>\n",
              "    </tr>\n",
              "    <tr>\n",
              "      <th>4</th>\n",
              "      <td>2009.0</td>\n",
              "      <td>33.00</td>\n",
              "      <td>0</td>\n",
              "      <td>0</td>\n",
              "      <td>0</td>\n",
              "      <td>0</td>\n",
              "      <td>0</td>\n",
              "      <td>0</td>\n",
              "      <td>0</td>\n",
              "      <td>0</td>\n",
              "      <td>...</td>\n",
              "      <td>0</td>\n",
              "      <td>0</td>\n",
              "      <td>0</td>\n",
              "      <td>0</td>\n",
              "      <td>0</td>\n",
              "      <td>0</td>\n",
              "      <td>0</td>\n",
              "      <td>0</td>\n",
              "      <td>0</td>\n",
              "      <td>0</td>\n",
              "    </tr>\n",
              "    <tr>\n",
              "      <th>5</th>\n",
              "      <td>1996.0</td>\n",
              "      <td>31.37</td>\n",
              "      <td>0</td>\n",
              "      <td>0</td>\n",
              "      <td>0</td>\n",
              "      <td>0</td>\n",
              "      <td>0</td>\n",
              "      <td>1</td>\n",
              "      <td>0</td>\n",
              "      <td>0</td>\n",
              "      <td>...</td>\n",
              "      <td>0</td>\n",
              "      <td>0</td>\n",
              "      <td>0</td>\n",
              "      <td>0</td>\n",
              "      <td>0</td>\n",
              "      <td>0</td>\n",
              "      <td>0</td>\n",
              "      <td>0</td>\n",
              "      <td>0</td>\n",
              "      <td>0</td>\n",
              "    </tr>\n",
              "    <tr>\n",
              "      <th>...</th>\n",
              "      <td>...</td>\n",
              "      <td>...</td>\n",
              "      <td>...</td>\n",
              "      <td>...</td>\n",
              "      <td>...</td>\n",
              "      <td>...</td>\n",
              "      <td>...</td>\n",
              "      <td>...</td>\n",
              "      <td>...</td>\n",
              "      <td>...</td>\n",
              "      <td>...</td>\n",
              "      <td>...</td>\n",
              "      <td>...</td>\n",
              "      <td>...</td>\n",
              "      <td>...</td>\n",
              "      <td>...</td>\n",
              "      <td>...</td>\n",
              "      <td>...</td>\n",
              "      <td>...</td>\n",
              "      <td>...</td>\n",
              "      <td>...</td>\n",
              "    </tr>\n",
              "    <tr>\n",
              "      <th>16596</th>\n",
              "      <td>2002.0</td>\n",
              "      <td>0.01</td>\n",
              "      <td>0</td>\n",
              "      <td>0</td>\n",
              "      <td>0</td>\n",
              "      <td>0</td>\n",
              "      <td>0</td>\n",
              "      <td>0</td>\n",
              "      <td>1</td>\n",
              "      <td>0</td>\n",
              "      <td>...</td>\n",
              "      <td>0</td>\n",
              "      <td>0</td>\n",
              "      <td>0</td>\n",
              "      <td>0</td>\n",
              "      <td>0</td>\n",
              "      <td>0</td>\n",
              "      <td>0</td>\n",
              "      <td>0</td>\n",
              "      <td>0</td>\n",
              "      <td>0</td>\n",
              "    </tr>\n",
              "    <tr>\n",
              "      <th>16597</th>\n",
              "      <td>2003.0</td>\n",
              "      <td>0.01</td>\n",
              "      <td>0</td>\n",
              "      <td>0</td>\n",
              "      <td>0</td>\n",
              "      <td>0</td>\n",
              "      <td>0</td>\n",
              "      <td>0</td>\n",
              "      <td>0</td>\n",
              "      <td>1</td>\n",
              "      <td>...</td>\n",
              "      <td>0</td>\n",
              "      <td>0</td>\n",
              "      <td>0</td>\n",
              "      <td>0</td>\n",
              "      <td>0</td>\n",
              "      <td>0</td>\n",
              "      <td>0</td>\n",
              "      <td>0</td>\n",
              "      <td>0</td>\n",
              "      <td>0</td>\n",
              "    </tr>\n",
              "    <tr>\n",
              "      <th>16598</th>\n",
              "      <td>2008.0</td>\n",
              "      <td>0.01</td>\n",
              "      <td>0</td>\n",
              "      <td>0</td>\n",
              "      <td>0</td>\n",
              "      <td>0</td>\n",
              "      <td>0</td>\n",
              "      <td>0</td>\n",
              "      <td>0</td>\n",
              "      <td>0</td>\n",
              "      <td>...</td>\n",
              "      <td>0</td>\n",
              "      <td>0</td>\n",
              "      <td>0</td>\n",
              "      <td>0</td>\n",
              "      <td>0</td>\n",
              "      <td>0</td>\n",
              "      <td>0</td>\n",
              "      <td>0</td>\n",
              "      <td>0</td>\n",
              "      <td>0</td>\n",
              "    </tr>\n",
              "    <tr>\n",
              "      <th>16599</th>\n",
              "      <td>2010.0</td>\n",
              "      <td>0.01</td>\n",
              "      <td>0</td>\n",
              "      <td>0</td>\n",
              "      <td>0</td>\n",
              "      <td>0</td>\n",
              "      <td>1</td>\n",
              "      <td>0</td>\n",
              "      <td>0</td>\n",
              "      <td>0</td>\n",
              "      <td>...</td>\n",
              "      <td>0</td>\n",
              "      <td>0</td>\n",
              "      <td>0</td>\n",
              "      <td>0</td>\n",
              "      <td>0</td>\n",
              "      <td>0</td>\n",
              "      <td>0</td>\n",
              "      <td>0</td>\n",
              "      <td>0</td>\n",
              "      <td>0</td>\n",
              "    </tr>\n",
              "    <tr>\n",
              "      <th>16600</th>\n",
              "      <td>2003.0</td>\n",
              "      <td>0.01</td>\n",
              "      <td>0</td>\n",
              "      <td>0</td>\n",
              "      <td>0</td>\n",
              "      <td>0</td>\n",
              "      <td>0</td>\n",
              "      <td>0</td>\n",
              "      <td>1</td>\n",
              "      <td>0</td>\n",
              "      <td>...</td>\n",
              "      <td>0</td>\n",
              "      <td>0</td>\n",
              "      <td>0</td>\n",
              "      <td>0</td>\n",
              "      <td>0</td>\n",
              "      <td>0</td>\n",
              "      <td>0</td>\n",
              "      <td>0</td>\n",
              "      <td>0</td>\n",
              "      <td>0</td>\n",
              "    </tr>\n",
              "  </tbody>\n",
              "</table>\n",
              "<p>16540 rows × 92 columns</p>\n",
              "</div>"
            ],
            "text/plain": [
              "         Year  Global_Sales  2600  3DO  3DS  DC  DS  GB  GBA  GC  ...  \\\n",
              "Rank                                                              ...   \n",
              "1      2006.0         82.74     0    0    0   0   0   0    0   0  ...   \n",
              "2      1985.0         40.24     0    0    0   0   0   0    0   0  ...   \n",
              "3      2008.0         35.82     0    0    0   0   0   0    0   0  ...   \n",
              "4      2009.0         33.00     0    0    0   0   0   0    0   0  ...   \n",
              "5      1996.0         31.37     0    0    0   0   0   1    0   0  ...   \n",
              "...       ...           ...   ...  ...  ...  ..  ..  ..  ...  ..  ...   \n",
              "16596  2002.0          0.01     0    0    0   0   0   0    1   0  ...   \n",
              "16597  2003.0          0.01     0    0    0   0   0   0    0   1  ...   \n",
              "16598  2008.0          0.01     0    0    0   0   0   0    0   0  ...   \n",
              "16599  2010.0          0.01     0    0    0   0   1   0    0   0  ...   \n",
              "16600  2003.0          0.01     0    0    0   0   0   0    1   0  ...   \n",
              "\n",
              "       SquareSoft  THQ  Take-Two Interactive  Tecmo Koei  Ubisoft  Unknown  \\\n",
              "Rank                                                                         \n",
              "1               0    0                     0           0        0        0   \n",
              "2               0    0                     0           0        0        0   \n",
              "3               0    0                     0           0        0        0   \n",
              "4               0    0                     0           0        0        0   \n",
              "5               0    0                     0           0        0        0   \n",
              "...           ...  ...                   ...         ...      ...      ...   \n",
              "16596           0    0                     0           0        0        0   \n",
              "16597           0    0                     0           0        0        0   \n",
              "16598           0    0                     0           0        0        0   \n",
              "16599           0    0                     0           0        0        0   \n",
              "16600           0    0                     0           0        0        0   \n",
              "\n",
              "       Virgin Interactive  Vivendi Games  \\\n",
              "Rank                                       \n",
              "1                       0              0   \n",
              "2                       0              0   \n",
              "3                       0              0   \n",
              "4                       0              0   \n",
              "5                       0              0   \n",
              "...                   ...            ...   \n",
              "16596                   0              0   \n",
              "16597                   0              0   \n",
              "16598                   0              0   \n",
              "16599                   0              0   \n",
              "16600                   0              0   \n",
              "\n",
              "       Warner Bros. Interactive Entertainment  Zoo Digital Publishing  \n",
              "Rank                                                                   \n",
              "1                                           0                       0  \n",
              "2                                           0                       0  \n",
              "3                                           0                       0  \n",
              "4                                           0                       0  \n",
              "5                                           0                       0  \n",
              "...                                       ...                     ...  \n",
              "16596                                       0                       0  \n",
              "16597                                       0                       0  \n",
              "16598                                       0                       0  \n",
              "16599                                       0                       0  \n",
              "16600                                       0                       0  \n",
              "\n",
              "[16540 rows x 92 columns]"
            ]
          },
          "metadata": {
            "tags": []
          },
          "execution_count": 18
        }
      ]
    },
    {
      "cell_type": "markdown",
      "metadata": {
        "papermill": {
          "duration": 0.011069,
          "end_time": "2020-09-07T15:19:34.657220",
          "exception": false,
          "start_time": "2020-09-07T15:19:34.646151",
          "status": "completed"
        },
        "tags": [],
        "id": "TupE_1SWoqm-"
      },
      "source": [
        "## Scaling"
      ]
    },
    {
      "cell_type": "code",
      "metadata": {
        "execution": {
          "iopub.execute_input": "2020-09-07T15:19:34.688833Z",
          "iopub.status.busy": "2020-09-07T15:19:34.687956Z",
          "iopub.status.idle": "2020-09-07T15:19:34.691113Z",
          "shell.execute_reply": "2020-09-07T15:19:34.691633Z"
        },
        "papermill": {
          "duration": 0.022663,
          "end_time": "2020-09-07T15:19:34.691799",
          "exception": false,
          "start_time": "2020-09-07T15:19:34.669136",
          "status": "completed"
        },
        "tags": [],
        "id": "ME2JaeTKoqm_"
      },
      "source": [
        "y = data['Global_Sales']\n",
        "X = data.drop('Global_Sales', axis=1)"
      ],
      "execution_count": null,
      "outputs": []
    },
    {
      "cell_type": "code",
      "metadata": {
        "execution": {
          "iopub.execute_input": "2020-09-07T15:19:34.719150Z",
          "iopub.status.busy": "2020-09-07T15:19:34.718103Z",
          "iopub.status.idle": "2020-09-07T15:19:34.747203Z",
          "shell.execute_reply": "2020-09-07T15:19:34.746589Z"
        },
        "papermill": {
          "duration": 0.044209,
          "end_time": "2020-09-07T15:19:34.747347",
          "exception": false,
          "start_time": "2020-09-07T15:19:34.703138",
          "status": "completed"
        },
        "tags": [],
        "id": "KwuWwGzjoqm_",
        "outputId": "11f179e7-64b2-49bb-891a-696e14545cfd"
      },
      "source": [
        "X"
      ],
      "execution_count": null,
      "outputs": [
        {
          "output_type": "execute_result",
          "data": {
            "text/html": [
              "<div>\n",
              "<style scoped>\n",
              "    .dataframe tbody tr th:only-of-type {\n",
              "        vertical-align: middle;\n",
              "    }\n",
              "\n",
              "    .dataframe tbody tr th {\n",
              "        vertical-align: top;\n",
              "    }\n",
              "\n",
              "    .dataframe thead th {\n",
              "        text-align: right;\n",
              "    }\n",
              "</style>\n",
              "<table border=\"1\" class=\"dataframe\">\n",
              "  <thead>\n",
              "    <tr style=\"text-align: right;\">\n",
              "      <th></th>\n",
              "      <th>Year</th>\n",
              "      <th>2600</th>\n",
              "      <th>3DO</th>\n",
              "      <th>3DS</th>\n",
              "      <th>DC</th>\n",
              "      <th>DS</th>\n",
              "      <th>GB</th>\n",
              "      <th>GBA</th>\n",
              "      <th>GC</th>\n",
              "      <th>GEN</th>\n",
              "      <th>...</th>\n",
              "      <th>SquareSoft</th>\n",
              "      <th>THQ</th>\n",
              "      <th>Take-Two Interactive</th>\n",
              "      <th>Tecmo Koei</th>\n",
              "      <th>Ubisoft</th>\n",
              "      <th>Unknown</th>\n",
              "      <th>Virgin Interactive</th>\n",
              "      <th>Vivendi Games</th>\n",
              "      <th>Warner Bros. Interactive Entertainment</th>\n",
              "      <th>Zoo Digital Publishing</th>\n",
              "    </tr>\n",
              "    <tr>\n",
              "      <th>Rank</th>\n",
              "      <th></th>\n",
              "      <th></th>\n",
              "      <th></th>\n",
              "      <th></th>\n",
              "      <th></th>\n",
              "      <th></th>\n",
              "      <th></th>\n",
              "      <th></th>\n",
              "      <th></th>\n",
              "      <th></th>\n",
              "      <th></th>\n",
              "      <th></th>\n",
              "      <th></th>\n",
              "      <th></th>\n",
              "      <th></th>\n",
              "      <th></th>\n",
              "      <th></th>\n",
              "      <th></th>\n",
              "      <th></th>\n",
              "      <th></th>\n",
              "      <th></th>\n",
              "    </tr>\n",
              "  </thead>\n",
              "  <tbody>\n",
              "    <tr>\n",
              "      <th>1</th>\n",
              "      <td>2006.0</td>\n",
              "      <td>0</td>\n",
              "      <td>0</td>\n",
              "      <td>0</td>\n",
              "      <td>0</td>\n",
              "      <td>0</td>\n",
              "      <td>0</td>\n",
              "      <td>0</td>\n",
              "      <td>0</td>\n",
              "      <td>0</td>\n",
              "      <td>...</td>\n",
              "      <td>0</td>\n",
              "      <td>0</td>\n",
              "      <td>0</td>\n",
              "      <td>0</td>\n",
              "      <td>0</td>\n",
              "      <td>0</td>\n",
              "      <td>0</td>\n",
              "      <td>0</td>\n",
              "      <td>0</td>\n",
              "      <td>0</td>\n",
              "    </tr>\n",
              "    <tr>\n",
              "      <th>2</th>\n",
              "      <td>1985.0</td>\n",
              "      <td>0</td>\n",
              "      <td>0</td>\n",
              "      <td>0</td>\n",
              "      <td>0</td>\n",
              "      <td>0</td>\n",
              "      <td>0</td>\n",
              "      <td>0</td>\n",
              "      <td>0</td>\n",
              "      <td>0</td>\n",
              "      <td>...</td>\n",
              "      <td>0</td>\n",
              "      <td>0</td>\n",
              "      <td>0</td>\n",
              "      <td>0</td>\n",
              "      <td>0</td>\n",
              "      <td>0</td>\n",
              "      <td>0</td>\n",
              "      <td>0</td>\n",
              "      <td>0</td>\n",
              "      <td>0</td>\n",
              "    </tr>\n",
              "    <tr>\n",
              "      <th>3</th>\n",
              "      <td>2008.0</td>\n",
              "      <td>0</td>\n",
              "      <td>0</td>\n",
              "      <td>0</td>\n",
              "      <td>0</td>\n",
              "      <td>0</td>\n",
              "      <td>0</td>\n",
              "      <td>0</td>\n",
              "      <td>0</td>\n",
              "      <td>0</td>\n",
              "      <td>...</td>\n",
              "      <td>0</td>\n",
              "      <td>0</td>\n",
              "      <td>0</td>\n",
              "      <td>0</td>\n",
              "      <td>0</td>\n",
              "      <td>0</td>\n",
              "      <td>0</td>\n",
              "      <td>0</td>\n",
              "      <td>0</td>\n",
              "      <td>0</td>\n",
              "    </tr>\n",
              "    <tr>\n",
              "      <th>4</th>\n",
              "      <td>2009.0</td>\n",
              "      <td>0</td>\n",
              "      <td>0</td>\n",
              "      <td>0</td>\n",
              "      <td>0</td>\n",
              "      <td>0</td>\n",
              "      <td>0</td>\n",
              "      <td>0</td>\n",
              "      <td>0</td>\n",
              "      <td>0</td>\n",
              "      <td>...</td>\n",
              "      <td>0</td>\n",
              "      <td>0</td>\n",
              "      <td>0</td>\n",
              "      <td>0</td>\n",
              "      <td>0</td>\n",
              "      <td>0</td>\n",
              "      <td>0</td>\n",
              "      <td>0</td>\n",
              "      <td>0</td>\n",
              "      <td>0</td>\n",
              "    </tr>\n",
              "    <tr>\n",
              "      <th>5</th>\n",
              "      <td>1996.0</td>\n",
              "      <td>0</td>\n",
              "      <td>0</td>\n",
              "      <td>0</td>\n",
              "      <td>0</td>\n",
              "      <td>0</td>\n",
              "      <td>1</td>\n",
              "      <td>0</td>\n",
              "      <td>0</td>\n",
              "      <td>0</td>\n",
              "      <td>...</td>\n",
              "      <td>0</td>\n",
              "      <td>0</td>\n",
              "      <td>0</td>\n",
              "      <td>0</td>\n",
              "      <td>0</td>\n",
              "      <td>0</td>\n",
              "      <td>0</td>\n",
              "      <td>0</td>\n",
              "      <td>0</td>\n",
              "      <td>0</td>\n",
              "    </tr>\n",
              "    <tr>\n",
              "      <th>...</th>\n",
              "      <td>...</td>\n",
              "      <td>...</td>\n",
              "      <td>...</td>\n",
              "      <td>...</td>\n",
              "      <td>...</td>\n",
              "      <td>...</td>\n",
              "      <td>...</td>\n",
              "      <td>...</td>\n",
              "      <td>...</td>\n",
              "      <td>...</td>\n",
              "      <td>...</td>\n",
              "      <td>...</td>\n",
              "      <td>...</td>\n",
              "      <td>...</td>\n",
              "      <td>...</td>\n",
              "      <td>...</td>\n",
              "      <td>...</td>\n",
              "      <td>...</td>\n",
              "      <td>...</td>\n",
              "      <td>...</td>\n",
              "      <td>...</td>\n",
              "    </tr>\n",
              "    <tr>\n",
              "      <th>16596</th>\n",
              "      <td>2002.0</td>\n",
              "      <td>0</td>\n",
              "      <td>0</td>\n",
              "      <td>0</td>\n",
              "      <td>0</td>\n",
              "      <td>0</td>\n",
              "      <td>0</td>\n",
              "      <td>1</td>\n",
              "      <td>0</td>\n",
              "      <td>0</td>\n",
              "      <td>...</td>\n",
              "      <td>0</td>\n",
              "      <td>0</td>\n",
              "      <td>0</td>\n",
              "      <td>0</td>\n",
              "      <td>0</td>\n",
              "      <td>0</td>\n",
              "      <td>0</td>\n",
              "      <td>0</td>\n",
              "      <td>0</td>\n",
              "      <td>0</td>\n",
              "    </tr>\n",
              "    <tr>\n",
              "      <th>16597</th>\n",
              "      <td>2003.0</td>\n",
              "      <td>0</td>\n",
              "      <td>0</td>\n",
              "      <td>0</td>\n",
              "      <td>0</td>\n",
              "      <td>0</td>\n",
              "      <td>0</td>\n",
              "      <td>0</td>\n",
              "      <td>1</td>\n",
              "      <td>0</td>\n",
              "      <td>...</td>\n",
              "      <td>0</td>\n",
              "      <td>0</td>\n",
              "      <td>0</td>\n",
              "      <td>0</td>\n",
              "      <td>0</td>\n",
              "      <td>0</td>\n",
              "      <td>0</td>\n",
              "      <td>0</td>\n",
              "      <td>0</td>\n",
              "      <td>0</td>\n",
              "    </tr>\n",
              "    <tr>\n",
              "      <th>16598</th>\n",
              "      <td>2008.0</td>\n",
              "      <td>0</td>\n",
              "      <td>0</td>\n",
              "      <td>0</td>\n",
              "      <td>0</td>\n",
              "      <td>0</td>\n",
              "      <td>0</td>\n",
              "      <td>0</td>\n",
              "      <td>0</td>\n",
              "      <td>0</td>\n",
              "      <td>...</td>\n",
              "      <td>0</td>\n",
              "      <td>0</td>\n",
              "      <td>0</td>\n",
              "      <td>0</td>\n",
              "      <td>0</td>\n",
              "      <td>0</td>\n",
              "      <td>0</td>\n",
              "      <td>0</td>\n",
              "      <td>0</td>\n",
              "      <td>0</td>\n",
              "    </tr>\n",
              "    <tr>\n",
              "      <th>16599</th>\n",
              "      <td>2010.0</td>\n",
              "      <td>0</td>\n",
              "      <td>0</td>\n",
              "      <td>0</td>\n",
              "      <td>0</td>\n",
              "      <td>1</td>\n",
              "      <td>0</td>\n",
              "      <td>0</td>\n",
              "      <td>0</td>\n",
              "      <td>0</td>\n",
              "      <td>...</td>\n",
              "      <td>0</td>\n",
              "      <td>0</td>\n",
              "      <td>0</td>\n",
              "      <td>0</td>\n",
              "      <td>0</td>\n",
              "      <td>0</td>\n",
              "      <td>0</td>\n",
              "      <td>0</td>\n",
              "      <td>0</td>\n",
              "      <td>0</td>\n",
              "    </tr>\n",
              "    <tr>\n",
              "      <th>16600</th>\n",
              "      <td>2003.0</td>\n",
              "      <td>0</td>\n",
              "      <td>0</td>\n",
              "      <td>0</td>\n",
              "      <td>0</td>\n",
              "      <td>0</td>\n",
              "      <td>0</td>\n",
              "      <td>1</td>\n",
              "      <td>0</td>\n",
              "      <td>0</td>\n",
              "      <td>...</td>\n",
              "      <td>0</td>\n",
              "      <td>0</td>\n",
              "      <td>0</td>\n",
              "      <td>0</td>\n",
              "      <td>0</td>\n",
              "      <td>0</td>\n",
              "      <td>0</td>\n",
              "      <td>0</td>\n",
              "      <td>0</td>\n",
              "      <td>0</td>\n",
              "    </tr>\n",
              "  </tbody>\n",
              "</table>\n",
              "<p>16540 rows × 91 columns</p>\n",
              "</div>"
            ],
            "text/plain": [
              "         Year  2600  3DO  3DS  DC  DS  GB  GBA  GC  GEN  ...  SquareSoft  THQ  \\\n",
              "Rank                                                     ...                    \n",
              "1      2006.0     0    0    0   0   0   0    0   0    0  ...           0    0   \n",
              "2      1985.0     0    0    0   0   0   0    0   0    0  ...           0    0   \n",
              "3      2008.0     0    0    0   0   0   0    0   0    0  ...           0    0   \n",
              "4      2009.0     0    0    0   0   0   0    0   0    0  ...           0    0   \n",
              "5      1996.0     0    0    0   0   0   1    0   0    0  ...           0    0   \n",
              "...       ...   ...  ...  ...  ..  ..  ..  ...  ..  ...  ...         ...  ...   \n",
              "16596  2002.0     0    0    0   0   0   0    1   0    0  ...           0    0   \n",
              "16597  2003.0     0    0    0   0   0   0    0   1    0  ...           0    0   \n",
              "16598  2008.0     0    0    0   0   0   0    0   0    0  ...           0    0   \n",
              "16599  2010.0     0    0    0   0   1   0    0   0    0  ...           0    0   \n",
              "16600  2003.0     0    0    0   0   0   0    1   0    0  ...           0    0   \n",
              "\n",
              "       Take-Two Interactive  Tecmo Koei  Ubisoft  Unknown  Virgin Interactive  \\\n",
              "Rank                                                                            \n",
              "1                         0           0        0        0                   0   \n",
              "2                         0           0        0        0                   0   \n",
              "3                         0           0        0        0                   0   \n",
              "4                         0           0        0        0                   0   \n",
              "5                         0           0        0        0                   0   \n",
              "...                     ...         ...      ...      ...                 ...   \n",
              "16596                     0           0        0        0                   0   \n",
              "16597                     0           0        0        0                   0   \n",
              "16598                     0           0        0        0                   0   \n",
              "16599                     0           0        0        0                   0   \n",
              "16600                     0           0        0        0                   0   \n",
              "\n",
              "       Vivendi Games  Warner Bros. Interactive Entertainment  \\\n",
              "Rank                                                           \n",
              "1                  0                                       0   \n",
              "2                  0                                       0   \n",
              "3                  0                                       0   \n",
              "4                  0                                       0   \n",
              "5                  0                                       0   \n",
              "...              ...                                     ...   \n",
              "16596              0                                       0   \n",
              "16597              0                                       0   \n",
              "16598              0                                       0   \n",
              "16599              0                                       0   \n",
              "16600              0                                       0   \n",
              "\n",
              "       Zoo Digital Publishing  \n",
              "Rank                           \n",
              "1                           0  \n",
              "2                           0  \n",
              "3                           0  \n",
              "4                           0  \n",
              "5                           0  \n",
              "...                       ...  \n",
              "16596                       0  \n",
              "16597                       0  \n",
              "16598                       0  \n",
              "16599                       0  \n",
              "16600                       0  \n",
              "\n",
              "[16540 rows x 91 columns]"
            ]
          },
          "metadata": {
            "tags": []
          },
          "execution_count": 20
        }
      ]
    },
    {
      "cell_type": "code",
      "metadata": {
        "execution": {
          "iopub.execute_input": "2020-09-07T15:19:34.781839Z",
          "iopub.status.busy": "2020-09-07T15:19:34.780996Z",
          "iopub.status.idle": "2020-09-07T15:19:34.833136Z",
          "shell.execute_reply": "2020-09-07T15:19:34.832274Z"
        },
        "papermill": {
          "duration": 0.072907,
          "end_time": "2020-09-07T15:19:34.833265",
          "exception": false,
          "start_time": "2020-09-07T15:19:34.760358",
          "status": "completed"
        },
        "tags": [],
        "id": "29TdLJP8oqnA"
      },
      "source": [
        "scaler = StandardScaler()\n",
        "\n",
        "X = scaler.fit_transform(X)"
      ],
      "execution_count": null,
      "outputs": []
    },
    {
      "cell_type": "code",
      "metadata": {
        "execution": {
          "iopub.execute_input": "2020-09-07T15:19:34.864269Z",
          "iopub.status.busy": "2020-09-07T15:19:34.863391Z",
          "iopub.status.idle": "2020-09-07T15:19:34.867481Z",
          "shell.execute_reply": "2020-09-07T15:19:34.866926Z"
        },
        "papermill": {
          "duration": 0.021404,
          "end_time": "2020-09-07T15:19:34.867593",
          "exception": false,
          "start_time": "2020-09-07T15:19:34.846189",
          "status": "completed"
        },
        "tags": [],
        "id": "HfFHlnCfoqnA",
        "outputId": "11773932-2f7e-46c4-e23c-552e52bbfd96"
      },
      "source": [
        "X.shape"
      ],
      "execution_count": null,
      "outputs": [
        {
          "output_type": "execute_result",
          "data": {
            "text/plain": [
              "(16540, 91)"
            ]
          },
          "metadata": {
            "tags": []
          },
          "execution_count": 22
        }
      ]
    },
    {
      "cell_type": "markdown",
      "metadata": {
        "papermill": {
          "duration": 0.011861,
          "end_time": "2020-09-07T15:19:34.891490",
          "exception": false,
          "start_time": "2020-09-07T15:19:34.879629",
          "status": "completed"
        },
        "tags": [],
        "id": "fHYNBYKIoqnA"
      },
      "source": [
        "# Training"
      ]
    },
    {
      "cell_type": "code",
      "metadata": {
        "execution": {
          "iopub.execute_input": "2020-09-07T15:19:34.923613Z",
          "iopub.status.busy": "2020-09-07T15:19:34.922174Z",
          "iopub.status.idle": "2020-09-07T15:19:34.937152Z",
          "shell.execute_reply": "2020-09-07T15:19:34.937673Z"
        },
        "papermill": {
          "duration": 0.033971,
          "end_time": "2020-09-07T15:19:34.937828",
          "exception": false,
          "start_time": "2020-09-07T15:19:34.903857",
          "status": "completed"
        },
        "tags": [],
        "id": "XF9SFLbmoqnA"
      },
      "source": [
        "X_train, X_test, y_train, y_test = train_test_split(X, y, train_size=0.8)"
      ],
      "execution_count": null,
      "outputs": []
    },
    {
      "cell_type": "code",
      "metadata": {
        "execution": {
          "iopub.execute_input": "2020-09-07T15:19:34.973976Z",
          "iopub.status.busy": "2020-09-07T15:19:34.972421Z",
          "iopub.status.idle": "2020-09-07T15:19:39.891794Z",
          "shell.execute_reply": "2020-09-07T15:19:39.891057Z"
        },
        "papermill": {
          "duration": 4.941647,
          "end_time": "2020-09-07T15:19:39.891939",
          "exception": false,
          "start_time": "2020-09-07T15:19:34.950292",
          "status": "completed"
        },
        "tags": [],
        "id": "cKpr7U1joqnA"
      },
      "source": [
        "inputs = tf.keras.Input(shape=(91,))\n",
        "x = tf.keras.layers.Dense(128, activation='relu')(inputs)\n",
        "x = tf.keras.layers.Dense(128, activation='relu')(x)\n",
        "outputs = tf.keras.layers.Dense(1)(x)\n",
        "\n",
        "model = tf.keras.Model(inputs=inputs, outputs=outputs)\n",
        "\n",
        "\n",
        "optimizer = tf.keras.optimizers.RMSprop(0.001)\n",
        "\n",
        "model.compile(\n",
        "    optimizer=optimizer,\n",
        "    loss='mse'\n",
        ")\n",
        "\n",
        "\n",
        "batch_size = 64\n",
        "epochs = 18\n",
        "\n",
        "history = model.fit(\n",
        "    X_train,\n",
        "    y_train,\n",
        "    validation_split=0.2,\n",
        "    batch_size=batch_size,\n",
        "    epochs=epochs,\n",
        "    verbose=0\n",
        ")"
      ],
      "execution_count": null,
      "outputs": []
    },
    {
      "cell_type": "markdown",
      "metadata": {
        "papermill": {
          "duration": 0.012233,
          "end_time": "2020-09-07T15:19:39.916757",
          "exception": false,
          "start_time": "2020-09-07T15:19:39.904524",
          "status": "completed"
        },
        "tags": [],
        "id": "vJX8n-SQoqnB"
      },
      "source": [
        "# Results"
      ]
    },
    {
      "cell_type": "code",
      "metadata": {
        "execution": {
          "iopub.execute_input": "2020-09-07T15:19:39.950027Z",
          "iopub.status.busy": "2020-09-07T15:19:39.949223Z",
          "iopub.status.idle": "2020-09-07T15:19:40.192985Z",
          "shell.execute_reply": "2020-09-07T15:19:40.192344Z"
        },
        "papermill": {
          "duration": 0.264039,
          "end_time": "2020-09-07T15:19:40.193105",
          "exception": false,
          "start_time": "2020-09-07T15:19:39.929066",
          "status": "completed"
        },
        "tags": [],
        "id": "c_ccBXgRoqnB",
        "outputId": "04995f7e-d956-4ba7-d7e2-e092839cfb76"
      },
      "source": [
        "plt.figure(figsize=(14, 10))\n",
        "\n",
        "epochs_range = range(1, epochs + 1)\n",
        "train_loss = history.history['loss']\n",
        "val_loss = history.history['val_loss']\n",
        "\n",
        "plt.plot(epochs_range, train_loss, label=\"Training Loss\")\n",
        "plt.plot(epochs_range, val_loss, label=\"Validation Loss\")\n",
        "\n",
        "plt.xlabel(\"Epoch\")\n",
        "plt.ylabel(\"Loss\")\n",
        "plt.legend()\n",
        "\n",
        "plt.show()"
      ],
      "execution_count": null,
      "outputs": [
        {
          "output_type": "display_data",
          "data": {
            "image/png": "[encoded data removed]",
            "text/plain": [
              "<Figure size 1008x720 with 1 Axes>"
            ]
          },
          "metadata": {
            "tags": [],
            "needs_background": "light"
          }
        }
      ]
    },
    {
      "cell_type": "code",
      "metadata": {
        "execution": {
          "iopub.execute_input": "2020-09-07T15:19:40.224635Z",
          "iopub.status.busy": "2020-09-07T15:19:40.223564Z",
          "iopub.status.idle": "2020-09-07T15:19:40.228118Z",
          "shell.execute_reply": "2020-09-07T15:19:40.227537Z"
        },
        "papermill": {
          "duration": 0.022552,
          "end_time": "2020-09-07T15:19:40.228237",
          "exception": false,
          "start_time": "2020-09-07T15:19:40.205685",
          "status": "completed"
        },
        "tags": [],
        "id": "ev8_nMZfoqnB",
        "outputId": "979b7adb-a77a-4640-96cb-c5aacb03c079"
      },
      "source": [
        "np.argmin(val_loss)"
      ],
      "execution_count": null,
      "outputs": [
        {
          "output_type": "execute_result",
          "data": {
            "text/plain": [
              "11"
            ]
          },
          "metadata": {
            "tags": []
          },
          "execution_count": 26
        }
      ]
    },
    {
      "cell_type": "code",
      "metadata": {
        "execution": {
          "iopub.execute_input": "2020-09-07T15:19:40.260583Z",
          "iopub.status.busy": "2020-09-07T15:19:40.259855Z",
          "iopub.status.idle": "2020-09-07T15:19:40.737843Z",
          "shell.execute_reply": "2020-09-07T15:19:40.737003Z"
        },
        "papermill": {
          "duration": 0.496997,
          "end_time": "2020-09-07T15:19:40.738032",
          "exception": false,
          "start_time": "2020-09-07T15:19:40.241035",
          "status": "completed"
        },
        "tags": [],
        "id": "YHqaEy7VoqnB",
        "outputId": "8fe90b5a-255c-47d9-8aa3-77ed416702e3"
      },
      "source": [
        "y_pred = np.squeeze(model.predict(X_test))\n",
        "\n",
        "result = RSquare()\n",
        "result.update_state(y_test, y_pred)\n",
        "\n",
        "print(\"R^2 Score:\", result.result())"
      ],
      "execution_count": null,
      "outputs": [
        {
          "output_type": "stream",
          "text": [
            "R^2 Score: tf.Tensor(0.15800583, shape=(), dtype=float32)\n"
          ],
          "name": "stdout"
        }
      ]
    },
    {
      "cell_type": "code",
      "metadata": {
        "execution": {
          "iopub.execute_input": "2020-09-07T15:19:40.769811Z",
          "iopub.status.busy": "2020-09-07T15:19:40.767366Z",
          "iopub.status.idle": "2020-09-07T15:19:40.910789Z",
          "shell.execute_reply": "2020-09-07T15:19:40.909984Z"
        },
        "papermill": {
          "duration": 0.159423,
          "end_time": "2020-09-07T15:19:40.910922",
          "exception": false,
          "start_time": "2020-09-07T15:19:40.751499",
          "status": "completed"
        },
        "tags": [],
        "id": "VWwk5i_BoqnC",
        "outputId": "920a8f90-97e3-4567-dc5c-00350ce235fb"
      },
      "source": [
        "model.evaluate(X_test, y_test)"
      ],
      "execution_count": null,
      "outputs": [
        {
          "output_type": "stream",
          "text": [
            "104/104 [==============================] - 0s 872us/step - loss: 1.5842\n"
          ],
          "name": "stdout"
        },
        {
          "output_type": "execute_result",
          "data": {
            "text/plain": [
              "1.584194540977478"
            ]
          },
          "metadata": {
            "tags": []
          },
          "execution_count": 28
        }
      ]
    },
    {
      "cell_type": "code",
      "metadata": {
        "execution": {
          "iopub.execute_input": "2020-09-07T15:19:40.944865Z",
          "iopub.status.busy": "2020-09-07T15:19:40.943906Z",
          "iopub.status.idle": "2020-09-07T15:19:40.948355Z",
          "shell.execute_reply": "2020-09-07T15:19:40.947710Z"
        },
        "papermill": {
          "duration": 0.023497,
          "end_time": "2020-09-07T15:19:40.948479",
          "exception": false,
          "start_time": "2020-09-07T15:19:40.924982",
          "status": "completed"
        },
        "tags": [],
        "id": "ShE5ZEfLoqnD",
        "outputId": "ef3b62f5-f993-4acf-d764-2a9fcb676add"
      },
      "source": [
        "history.history['val_loss']"
      ],
      "execution_count": null,
      "outputs": [
        {
          "output_type": "execute_result",
          "data": {
            "text/plain": [
              "[1.592564582824707,\n",
              " 1.5395244359970093,\n",
              " 1.540886640548706,\n",
              " 1.5164668560028076,\n",
              " 1.5648373365402222,\n",
              " 1.5360369682312012,\n",
              " 1.5936199426651,\n",
              " 1.5446008443832397,\n",
              " 1.5212054252624512,\n",
              " 1.5939539670944214,\n",
              " 1.5926116704940796,\n",
              " 1.51321280002594,\n",
              " 1.5245927572250366,\n",
              " 1.5297659635543823,\n",
              " 1.5493662357330322,\n",
              " 1.5625900030136108,\n",
              " 1.5235023498535156,\n",
              " 1.5906906127929688]"
            ]
          },
          "metadata": {
            "tags": []
          },
          "execution_count": 29
        }
      ]
    },
    {
      "cell_type": "code",
      "metadata": {
        "papermill": {
          "duration": 0.013118,
          "end_time": "2020-09-07T15:19:40.975313",
          "exception": false,
          "start_time": "2020-09-07T15:19:40.962195",
          "status": "completed"
        },
        "tags": [],
        "id": "WlsAeS__oqnE"
      },
      "source": [
        ""
      ],
      "execution_count": null,
      "outputs": []
    }
  ]
}